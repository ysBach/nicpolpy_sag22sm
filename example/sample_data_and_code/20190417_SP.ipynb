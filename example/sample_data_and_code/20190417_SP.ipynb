{
 "cells": [
  {
   "cell_type": "markdown",
   "id": "138c7fcb",
   "metadata": {},
   "source": [
    "Made by Yoonsoo P. Bach.\n",
    "\n",
    "# This Notebook is...\n",
    "Made to demonstrate the usage of ``NICPolpy``, using only a subset of images taken on 2019-04-17 at NHAO NIC. \n",
    "\n",
    "\n",
    "## Note\n",
    "After running this code, ~ 1GB data (intermediate files) will be produced. \n",
    "\n",
    "**If you do not want to run the code**, please just unzip the ``sample_result_logdirectory.zip`` file.\n",
    "\n",
    "\n",
    "## Data Description\n",
    "I selected two strongly-polarized standard stars (HDE283809 and Elias 29). For each object, there are\n",
    "* three polarimetric sets (12 frames per filter)\n",
    "* one polarimetric set for blank sky frame (4 frames per filter), and \n",
    "* 9 dark frames per filter.\n",
    "\n",
    "Totalling 41 frames per filter. There are dummy files (``<filt>.fits``) which are kept intentionally to show that ``NICPolpy`` automatically ignores them.\n",
    "\n",
    "\n",
    "## The environment I used\n",
    "\n",
    "<details><summary><u>click to see the code</u> </summary>\n",
    "<p>\n",
    "\n",
    "The code:\n",
    "\n",
    "```python\n",
    "%load_ext version_information\n",
    "import time\n",
    "now = time.strftime(\"%Y-%m-%d %H:%M:%S (%Z = GMT%z)\")\n",
    "print(f\"This notebook was generated at {now} \")\n",
    "\n",
    "vv = %version_information scipy, numpy, matplotlib, pandas, version_information\n",
    "for i, pkg in enumerate(vv.packages):\n",
    "    print(f\"{i} {pkg[0]:10s} {pkg[1]:s}\")\n",
    "```\n",
    "\n",
    "</p>\n",
    "</details>\n",
    "\n",
    "    This notebook was generated at 2022-10-13 15:15:37 (KST = GMT+0900) \n",
    "    0 Python     3.10.6 64bit [Clang 13.0.1 ]\n",
    "    1 IPython    8.5.0\n",
    "    2 OS         macOS 12.6 arm64 arm 64bit\n",
    "    3 scipy      1.9.1\n",
    "    4 numpy      1.23.2\n",
    "    5 matplotlib 3.6.0\n",
    "    6 pandas     1.5.0\n",
    "    7 version_information 1.0.4"
   ]
  },
  {
   "cell_type": "code",
   "execution_count": 1,
   "id": "d1d7eda8",
   "metadata": {},
   "outputs": [],
   "source": [
    "from IPython import InteractiveShell\n",
    "InteractiveShell.ast_node_interactivity = 'last_expr' \n",
    "\n",
    "import nicpolpy as nic\n",
    "\n",
    "import warnings\n",
    "warnings.filterwarnings('ignore')"
   ]
  },
  {
   "cell_type": "code",
   "execution_count": 2,
   "id": "d93962c3",
   "metadata": {},
   "outputs": [],
   "source": [
    "name = \"NHAO_NIC_StandardsPol_20190417_NHAO_NIC\"\n",
    "basename = \"SP_20190417\"\n",
    "\n",
    "npr = nic.NICPolReduc(\n",
    "    name=basename,\n",
    "    inputs=f\"{name}/raw/*.fits\",\n",
    "#     mflats=\"cal-flat_20200603-lv1/*.fits\",\n",
    "    mflats=\"../cal-flat_20180507-lv1/*.fits\",\n",
    "    imasks=\"../masks/*.fits\",\n",
    "    verbose=1\n",
    ")\n",
    "                                            "
   ]
  },
  {
   "cell_type": "code",
   "execution_count": 3,
   "id": "69c26d9e",
   "metadata": {},
   "outputs": [
    {
     "name": "stderr",
     "output_type": "stream",
     "text": [
      "27it [00:02, 13.47it/s]\n"
     ]
    },
    {
     "name": "stdout",
     "output_type": "stream",
     "text": [
      "Saved to __logs/SP_20190417/SP_20190417_plan-MDARK.csv\n",
      "Saving thumbnails to __logs/SP_20190417/thumbs_mdark_plan\n"
     ]
    },
    {
     "name": "stderr",
     "output_type": "stream",
     "text": [
      "27it [00:05,  4.89it/s]"
     ]
    },
    {
     "name": "stdout",
     "output_type": "stream",
     "text": [
      "WAIT! Modify\n",
      "\t__logs/SP_20190417/SP_20190417_plan-MDARK.csv\n"
     ]
    },
    {
     "name": "stderr",
     "output_type": "stream",
     "text": [
      "\n"
     ]
    }
   ],
   "source": [
    "_ = npr.plan_mdark()"
   ]
  },
  {
   "cell_type": "code",
   "execution_count": 4,
   "id": "5943e176",
   "metadata": {},
   "outputs": [
    {
     "name": "stdout",
     "output_type": "stream",
     "text": [
      "Group and combine by ['FILTER', 'EXPTIME'] (total 3 groups)\n",
      "* ('H', 8)... (9 files)\n",
      "* ('J', 8)... (9 files)\n",
      "* ('K', 8)... (9 files)\n",
      "..................................(dt = 2.121 s) 2022-10-13T06:13:11.728\n",
      "Saving thumbnails to __logs/SP_20190417/thumbs_mdark\n"
     ]
    },
    {
     "name": "stderr",
     "output_type": "stream",
     "text": [
      "3it [00:00,  5.04it/s]\n"
     ]
    },
    {
     "name": "stdout",
     "output_type": "stream",
     "text": [
      "Saving thumbnails to __logs/SP_20190417/thumbs_dmask\n"
     ]
    },
    {
     "name": "stderr",
     "output_type": "stream",
     "text": [
      "3it [00:00,  8.10it/s]\n"
     ]
    },
    {
     "name": "stdout",
     "output_type": "stream",
     "text": [
      "Saved to __logs/SP_20190417/SP_20190417_plan-MMASK.csv\n",
      "Saving thumbnails to __logs/SP_20190417/thumbs_mmask_plan\n"
     ]
    },
    {
     "name": "stderr",
     "output_type": "stream",
     "text": [
      "6it [00:00,  7.08it/s]"
     ]
    },
    {
     "name": "stdout",
     "output_type": "stream",
     "text": [
      "WAIT! Modify\n",
      "\t__logs/SP_20190417/SP_20190417_plan-MMASK.csv\n"
     ]
    },
    {
     "name": "stderr",
     "output_type": "stream",
     "text": [
      "\n"
     ]
    }
   ],
   "source": [
    "_ = npr.comb_mdark_dmask()\n",
    "_ = npr.plan_mmask()"
   ]
  },
  {
   "cell_type": "code",
   "execution_count": 5,
   "id": "466413bf",
   "metadata": {},
   "outputs": [
    {
     "name": "stdout",
     "output_type": "stream",
     "text": [
      "Group and combine by ['FILTER'] (total 3 groups)\n",
      "* H... (2 files)\n",
      "* J... (2 files)\n",
      "* K... (2 files)\n",
      "..................................(dt = 0.083 s) 2022-10-13T06:13:13.820\n",
      "Saving thumbnails to __logs/SP_20190417/thumbs_mmask\n"
     ]
    },
    {
     "name": "stderr",
     "output_type": "stream",
     "text": [
      "3it [00:00,  7.86it/s]\n"
     ]
    }
   ],
   "source": [
    "_ = npr.comb_mmask()"
   ]
  },
  {
   "cell_type": "code",
   "execution_count": 6,
   "id": "cf20ba7f",
   "metadata": {},
   "outputs": [
    {
     "name": "stderr",
     "output_type": "stream",
     "text": [
      "96it [00:06, 14.65it/s]\n",
      "100%|█████████████████████████████████████████████████████████████████████████████████████████| 32/32 [00:03<00:00,  9.72it/s]\n"
     ]
    },
    {
     "name": "stdout",
     "output_type": "stream",
     "text": [
      "Saved to __logs/SP_20190417/SP_20190417_plan-lv2.csv\n",
      "WAIT! Modify\n",
      "\t__logs/SP_20190417/SP_20190417_plan-lv2.csv\n"
     ]
    }
   ],
   "source": [
    "_ = npr.proc_lv1() \n",
    "_ = npr.plan_lv2()"
   ]
  },
  {
   "cell_type": "code",
   "execution_count": 7,
   "id": "604cde3b",
   "metadata": {},
   "outputs": [
    {
     "name": "stderr",
     "output_type": "stream",
     "text": [
      "85it [00:54,  1.57it/s]\n",
      "100%|█████████████████████████████████████████████████████████████████████████████████████████| 32/32 [00:03<00:00,  9.60it/s]\n"
     ]
    },
    {
     "name": "stdout",
     "output_type": "stream",
     "text": [
      "Saved to __logs/SP_20190417/SP_20190417_plan-lv3.csv\n",
      "WAIT! Modify\n",
      "\t__logs/SP_20190417/SP_20190417_plan-lv3.csv\n"
     ]
    }
   ],
   "source": [
    "_ = npr.proc_lv2(do_fourier=True, vertical_again=True) # ~ 4 min/350FITS on MBP 16\" [2021, macOS 12.0.1, M1Pro, 8P+2E core, GPU 16-core, RAM 16GB]\n",
    "_ = npr.plan_lv3()"
   ]
  },
  {
   "cell_type": "code",
   "execution_count": 8,
   "id": "8c16b56a",
   "metadata": {},
   "outputs": [
    {
     "name": "stderr",
     "output_type": "stream",
     "text": [
      "85it [00:29,  2.85it/s]\n"
     ]
    },
    {
     "name": "stdout",
     "output_type": "stream",
     "text": [
      "Saving thumbnails to _lv3/SP_20190417/thumbs\n"
     ]
    },
    {
     "name": "stderr",
     "output_type": "stream",
     "text": [
      "170it [00:16, 10.48it/s]"
     ]
    },
    {
     "name": "stdout",
     "output_type": "stream",
     "text": [
      "Saved to __logs/SP_20190417/SP_20190417_plan-IFRIN.csv\n",
      "WAIT! Modify\n",
      "\t__logs/SP_20190417/SP_20190417_plan-IFRIN.csv\n"
     ]
    },
    {
     "name": "stderr",
     "output_type": "stream",
     "text": [
      "\n"
     ]
    }
   ],
   "source": [
    "_ = npr.proc_lv3()  # ~ 3 min/350FITS on MBP 16\" [2021, macOS 12.0.1, M1Pro, 8P+2E core, GPU 16-core, RAM 16GB]\n",
    "_ = npr.plan_ifrin()"
   ]
  },
  {
   "cell_type": "code",
   "execution_count": 9,
   "id": "e9149e86",
   "metadata": {},
   "outputs": [
    {
     "name": "stderr",
     "output_type": "stream",
     "text": [
      "100%|█████████████████████████████████████████████████████████████████████████████████████████| 12/12 [00:02<00:00,  4.07it/s]\n"
     ]
    },
    {
     "name": "stdout",
     "output_type": "stream",
     "text": [
      "Saved to __logs/SP_20190417/SP_20190417_plan-MFRIN.csv\n",
      "Saving thumbnails to __logs/SP_20190417/thumbs_mfrin_plan\n"
     ]
    },
    {
     "name": "stderr",
     "output_type": "stream",
     "text": [
      "48it [00:04,  9.76it/s]"
     ]
    },
    {
     "name": "stdout",
     "output_type": "stream",
     "text": [
      "WAIT! Modify\n",
      "\t__logs/SP_20190417/SP_20190417_plan-MFRIN.csv\n"
     ]
    },
    {
     "name": "stderr",
     "output_type": "stream",
     "text": [
      "\n"
     ]
    }
   ],
   "source": [
    "_ = npr.plan_mfrin()"
   ]
  },
  {
   "cell_type": "code",
   "execution_count": 10,
   "id": "4a57c4f0",
   "metadata": {},
   "outputs": [
    {
     "name": "stdout",
     "output_type": "stream",
     "text": [
      "Group and combine by FRINCID (total 12 groups)\n",
      "* H_Elias29_sky_001_e... (4 files)\n",
      "* H_Elias29_sky_001_o... (4 files)\n",
      "* H_HDE283809_sky_001_e... (4 files)\n",
      "* H_HDE283809_sky_001_o... (4 files)\n",
      "* J_Elias29_sky_001_e... (4 files)\n",
      "* J_Elias29_sky_001_o... (4 files)\n",
      "* J_HDE283809_sky_001_e... (4 files)\n",
      "* J_HDE283809_sky_001_o... (4 files)\n",
      "* K_Elias29_sky_001_e... (4 files)\n",
      "* K_Elias29_sky_001_o... (4 files)\n",
      "* K_HDE283809_sky_001_e... (4 files)\n",
      "* K_HDE283809_sky_001_o... (4 files)\n",
      "..................................(dt = 0.419 s) 2022-10-13T06:15:17.255\n",
      "Saving thumbnails to __logs/SP_20190417/thumbs_mfrin\n"
     ]
    },
    {
     "name": "stderr",
     "output_type": "stream",
     "text": [
      "12it [00:01, 10.36it/s]\n"
     ]
    }
   ],
   "source": [
    "_ = npr.comb_mfrin()"
   ]
  },
  {
   "cell_type": "code",
   "execution_count": 11,
   "id": "0a405ddd",
   "metadata": {},
   "outputs": [
    {
     "name": "stdout",
     "output_type": "stream",
     "text": [
      "Saved to __logs/SP_20190417/SP_20190417_plan-lv4.csv\n",
      "WAIT! Modify\n",
      "\t__logs/SP_20190417/SP_20190417_plan-lv4.csv\n"
     ]
    }
   ],
   "source": [
    "_ = npr.plan_lv4(add_mfrin=False)"
   ]
  },
  {
   "cell_type": "code",
   "execution_count": 12,
   "id": "4d327005",
   "metadata": {
    "scrolled": false
   },
   "outputs": [
    {
     "name": "stderr",
     "output_type": "stream",
     "text": [
      "122it [00:07, 17.16it/s]\n"
     ]
    },
    {
     "name": "stdout",
     "output_type": "stream",
     "text": [
      "Saving thumbnails to _lv4/SP_20190417/thumbs\n"
     ]
    },
    {
     "name": "stderr",
     "output_type": "stream",
     "text": [
      "122it [00:11, 10.37it/s]\n"
     ]
    }
   ],
   "source": [
    "_ = npr.proc_lv4()"
   ]
  },
  {
   "cell_type": "code",
   "execution_count": 14,
   "id": "6aac6a91",
   "metadata": {},
   "outputs": [],
   "source": [
    "# If you are curious about available options, use, e.g.,\n",
    "npr.plan_lv2?"
   ]
  }
 ],
 "metadata": {
  "kernelspec": {
   "display_name": "Python 3 (ipykernel)",
   "language": "python",
   "name": "python3"
  },
  "language_info": {
   "codemirror_mode": {
    "name": "ipython",
    "version": 3
   },
   "file_extension": ".py",
   "mimetype": "text/x-python",
   "name": "python",
   "nbconvert_exporter": "python",
   "pygments_lexer": "ipython3",
   "version": "3.10.6"
  },
  "vscode": {
   "interpreter": {
    "hash": "2a0c41960e5a4910380bd4adea80a0c8c125e69f05b4c2ce5dac8612da8b9814"
   }
  }
 },
 "nbformat": 4,
 "nbformat_minor": 5
}
